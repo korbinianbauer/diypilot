{
 "cells": [
  {
   "cell_type": "code",
   "execution_count": 1,
   "metadata": {},
   "outputs": [],
   "source": [
    "import os\n",
    "\n",
    "import numpy as np\n",
    "\n",
    "import tensorflow as tf\n",
    "from tensorflow import keras\n",
    "\n",
    "\n",
    "\n",
    "from RoadDataset import RoadDataset"
   ]
  },
  {
   "cell_type": "code",
   "execution_count": 2,
   "metadata": {},
   "outputs": [
    {
     "data": {
      "text/plain": [
       "[['../Jetson/autopilot/records/Sun Dec 27 17_46_56 2020/Sun Dec 27 17_46_56 2020.csv',\n",
       "  '../Jetson/autopilot/records/Sun Dec 27 17_46_56 2020/frames/'],\n",
       " ['../Jetson/autopilot/records/Sun Dec 27 17_44_41 2020/Sun Dec 27 17_44_41 2020.csv',\n",
       "  '../Jetson/autopilot/records/Sun Dec 27 17_44_41 2020/frames/']]"
      ]
     },
     "execution_count": 2,
     "metadata": {},
     "output_type": "execute_result"
    }
   ],
   "source": [
    "datasets_path = \"../Jetson/autopilot/records/\"\n",
    "sub_dirs = os.listdir(datasets_path)\n",
    "dataset_paths = [[datasets_path + sub_dir + \"/\" + sub_dir + \".csv\", datasets_path + sub_dir + \"/frames/\"] for sub_dir in sub_dirs]\n",
    "dataset_paths"
   ]
  },
  {
   "cell_type": "code",
   "execution_count": 15,
   "metadata": {},
   "outputs": [
    {
     "name": "stdout",
     "output_type": "stream",
     "text": [
      "Loaded dataset with 169 samples\n"
     ]
    }
   ],
   "source": [
    "dataset_index = 1\n",
    "column_names = ['filename','steering_wheel_angle','speed', 'blink_l', 'blink_r']\n",
    "dataset = RoadDataset(dataset_paths[dataset_index][0], dataset_paths[dataset_index][1], column_names, batch_size=16)\n",
    "#dataset.clean()\n",
    "#dataset.balance()\n",
    "dataset.normalize()"
   ]
  },
  {
   "cell_type": "code",
   "execution_count": 16,
   "metadata": {},
   "outputs": [],
   "source": [
    "model_name = 'diypilot_v1'\n",
    "loaded_model = keras.models.load_model('./trained_models/' + model_name + '.h5')"
   ]
  },
  {
   "cell_type": "code",
   "execution_count": 17,
   "metadata": {},
   "outputs": [],
   "source": [
    "import sys\n",
    "sys.path.append(\"..\") # Adds higher directory to python modules path.\n",
    "from Jetson.autopilot.record.AutopilotGUI import AutopilotGUI"
   ]
  },
  {
   "cell_type": "code",
   "execution_count": 18,
   "metadata": {},
   "outputs": [],
   "source": [
    "gui = AutopilotGUI()"
   ]
  },
  {
   "cell_type": "code",
   "execution_count": 19,
   "metadata": {},
   "outputs": [],
   "source": [
    "def show_frame(test_image_index):\n",
    "\n",
    "    test_sample = dataset.get_frame(test_image_index)\n",
    "    test_image = test_sample[0]\n",
    "    test_labels = test_sample[1]\n",
    "\n",
    "    print(\"Test csv: \" + str(test_labels))\n",
    "\n",
    "    test_data = np.expand_dims(test_image, axis=0)\n",
    "    predictions = loaded_model.predict(test_data)\n",
    "\n",
    "    gui.set_frame(test_image)\n",
    "    gui.set_show_overlay(True)\n",
    "    gui.set_engaged(False)\n",
    "    gui.set_recording(True)\n",
    "\n",
    "    timestamp = test_labels['filename']\n",
    "    gui.set_timestring(timestamp)\n",
    "\n",
    "    velocity = test_labels['speed']\n",
    "    gui.set_velocity(velocity)\n",
    "\n",
    "    actual_swa = test_labels['steering_wheel_angle']*90\n",
    "    gui.set_actual_swa(actual_swa)\n",
    "\n",
    "    predicted_swa = predictions[0][0]*90\n",
    "    print(\"Ground-truth: \" +str(actual_swa))\n",
    "    print(\"Prediction: \" + str(predicted_swa))\n",
    "    gui.set_predicted_swa(predicted_swa)\n",
    "\n",
    "    gui.show_jupyter()"
   ]
  },
  {
   "cell_type": "code",
   "execution_count": 20,
   "metadata": {},
   "outputs": [],
   "source": [
    "import ipywidgets as widgets\n",
    "frame_slider = widgets.IntSlider(min=0, max=dataset.get_batch_size()*len(dataset)-1, continuous_update=False)"
   ]
  },
  {
   "cell_type": "code",
   "execution_count": 21,
   "metadata": {},
   "outputs": [
    {
     "data": {
      "application/vnd.jupyter.widget-view+json": {
       "model_id": "361ae9c4d77140c7af0f3c21e61ff7b5",
       "version_major": 2,
       "version_minor": 0
      },
      "text/plain": [
       "interactive(children=(IntSlider(value=0, continuous_update=False, description='test_image_index', max=159), Ou…"
      ]
     },
     "metadata": {},
     "output_type": "display_data"
    }
   ],
   "source": [
    "from ipywidgets import interact\n",
    "\n",
    "interact(show_frame, test_image_index=frame_slider);"
   ]
  },
  {
   "cell_type": "code",
   "execution_count": 13,
   "metadata": {},
   "outputs": [
    {
     "name": "stdout",
     "output_type": "stream",
     "text": [
      "Spaaaaace\n",
      "Spaaaaace\n",
      "Spaaaaace\n",
      "Spaaaaace\n",
      "Spaaaaace\n",
      "Spaaaaace\n",
      "Spaaaaace\n",
      "Spaaaaace\n",
      "Spaaaaace\n",
      "Spaaaaace\n",
      "Spaaaaace\n",
      "Spaaaaace\n",
      "Spaaaaace\n",
      "Spaaaaace\n",
      "Spaaaaace\n",
      "Spaaaaace\n",
      "Spaaaaace\n",
      "Spaaaaace\n",
      "Spaaaaace\n",
      "Spaaaaace\n",
      "Spaaaaace\n",
      "Spaaaaace\n",
      "Spaaaaace\n",
      "Spaaaaace\n",
      "Spaaaaace\n",
      "Spaaaaace\n",
      "Spaaaaace\n",
      "Spaaaaace\n",
      "Spaaaaace\n",
      "Spaaaaace\n"
     ]
    }
   ],
   "source": [
    "for i in range(30):\n",
    "    print(\"Spaaaaace\")"
   ]
  },
  {
   "cell_type": "code",
   "execution_count": null,
   "metadata": {},
   "outputs": [],
   "source": []
  }
 ],
 "metadata": {
  "kernelspec": {
   "display_name": "Python 3",
   "language": "python",
   "name": "python3"
  },
  "language_info": {
   "codemirror_mode": {
    "name": "ipython",
    "version": 3
   },
   "file_extension": ".py",
   "mimetype": "text/x-python",
   "name": "python",
   "nbconvert_exporter": "python",
   "pygments_lexer": "ipython3",
   "version": "3.6.9"
  }
 },
 "nbformat": 4,
 "nbformat_minor": 2
}
