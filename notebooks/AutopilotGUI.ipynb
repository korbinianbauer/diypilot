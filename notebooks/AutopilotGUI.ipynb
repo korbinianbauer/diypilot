{
 "cells": [
  {
   "cell_type": "code",
   "execution_count": 11,
   "metadata": {},
   "outputs": [],
   "source": [
    "import sys\n",
    "sys.path.append(\"..\") # Adds higher directory to python modules path."
   ]
  },
  {
   "cell_type": "code",
   "execution_count": 13,
   "metadata": {},
   "outputs": [],
   "source": [
    "from Jetson.autopilot.record.AutopilotGUI import AutopilotGUI\n",
    "import cv2\n",
    "import time"
   ]
  },
  {
   "cell_type": "code",
   "execution_count": 14,
   "metadata": {},
   "outputs": [],
   "source": [
    "gui = AutopilotGUI()"
   ]
  },
  {
   "cell_type": "code",
   "execution_count": 15,
   "metadata": {},
   "outputs": [],
   "source": [
    "#dummy_frame = cv2.imread(\"./dummy_frame.jpeg\")\n",
    "dummy_frame = cv2.imread(\"frame1.jpg\")\n",
    "dummy_frame = cv2.rotate(dummy_frame, cv2.ROTATE_180)\n",
    "dummy_frame = cv2.cvtColor(dummy_frame, cv2.COLOR_BGR2RGB) \n",
    "gui.set_frame(dummy_frame)\n",
    "\n",
    "\n",
    "gui.set_actual_swa(30)\n",
    "gui.set_predicted_swa(25)"
   ]
  },
  {
   "cell_type": "code",
   "execution_count": 16,
   "metadata": {},
   "outputs": [
    {
     "data": {
      "application/vnd.jupyter.widget-view+json": {
       "model_id": "0f1484ebafc54f2f86cad0b8d182fc09",
       "version_major": 2,
       "version_minor": 0
      },
      "text/plain": [
       "interactive(children=(Checkbox(value=True, description='Show Overlay', indent=False), Checkbox(value=True, des…"
      ]
     },
     "metadata": {},
     "output_type": "display_data"
    }
   ],
   "source": [
    "from ipywidgets import interact\n",
    "import ipywidgets as widgets\n",
    "import time\n",
    "import datetime\n",
    "\n",
    "actual_swa_slider = widgets.FloatSlider(min=-500, max=500, continuous_update=False)\n",
    "predicted_swa_slider = widgets.FloatSlider(min=-500, max=500, continuous_update=False)\n",
    "vel_slider = widgets.FloatSlider(min=0, max=200, continuous_update=False)\n",
    "cc_slider = widgets.FloatSlider(min=0, max=200, continuous_update=False)\n",
    "fps_slider = widgets.FloatSlider(min=0, max=60, continuous_update=False)\n",
    "freespace_slider = widgets.FloatSlider(min=0, max=128, continuous_update=False)\n",
    "\n",
    "show_overlay_checkbox = widgets.Checkbox(value=True, description='Show Overlay', disabled=False, indent=False)\n",
    "engaged_checkbox = widgets.Checkbox(value=True, description='Engaged', disabled=False, indent=False)\n",
    "recording_checkbox = widgets.Checkbox(value=True, description='Recording', disabled=False, indent=False)\n",
    "indicator_left_checkbox = widgets.Checkbox(value=True, description='Indicator Left', disabled=False, indent=False)\n",
    "indicator_right_checkbox = widgets.Checkbox(value=True, description='Indicator Right', disabled=False, indent=False)\n",
    "cruise_control_checkbox = widgets.Checkbox(value=True, description='Cruise Control', disabled=False, indent=False)\n",
    "    \n",
    "def show_frame(show_overlay, engaged, recording, indicator_left, indicator_right, cruise_control,\n",
    "               actual_swa, predicted_swa, cc_setpoint, velocity, fps, freespace):\n",
    "    gui.set_show_overlay(show_overlay)\n",
    "    gui.set_engaged(engaged)\n",
    "    gui.set_recording(recording)\n",
    "    gui.set_indicator_left(indicator_left)\n",
    "    gui.set_indicator_right(indicator_right)\n",
    "    gui.set_cruise_control(cruise_control)\n",
    "    gui.set_cruise_control_setpoint(cc_setpoint)\n",
    "    gui.set_velocity(velocity)\n",
    "    gui.set_actual_swa(actual_swa)\n",
    "    gui.set_predicted_swa(predicted_swa)\n",
    "    gui.set_fps(fps)\n",
    "    gui.set_freespace(freespace)\n",
    "    \n",
    "    t = datetime.datetime.now()\n",
    "    s = t.strftime('%d.%m.%Y %H:%M %S.%f')[:-3]\n",
    "    gui.set_timestring(s)\n",
    "    \n",
    "    gui.show_jupyter()\n",
    "    \n",
    "interact(show_frame, show_overlay=show_overlay_checkbox, engaged=engaged_checkbox, recording=recording_checkbox,\n",
    "         indicator_left=indicator_left_checkbox, indicator_right=indicator_right_checkbox,\n",
    "         cruise_control=cruise_control_checkbox, actual_swa=actual_swa_slider, predicted_swa=predicted_swa_slider,\n",
    "        cc_setpoint=cc_slider, velocity=vel_slider, fps=fps_slider, freespace=freespace_slider);"
   ]
  },
  {
   "cell_type": "code",
   "execution_count": 17,
   "metadata": {},
   "outputs": [
    {
     "data": {
      "text/plain": [
       "'27.12.2020 18:09 32.000'"
      ]
     },
     "execution_count": 17,
     "metadata": {},
     "output_type": "execute_result"
    }
   ],
   "source": [
    "gui.get_timestring()"
   ]
  },
  {
   "cell_type": "code",
   "execution_count": null,
   "metadata": {},
   "outputs": [],
   "source": []
  },
  {
   "cell_type": "code",
   "execution_count": null,
   "metadata": {},
   "outputs": [],
   "source": []
  }
 ],
 "metadata": {
  "kernelspec": {
   "display_name": "Python 3",
   "language": "python",
   "name": "python3"
  },
  "language_info": {
   "codemirror_mode": {
    "name": "ipython",
    "version": 3
   },
   "file_extension": ".py",
   "mimetype": "text/x-python",
   "name": "python",
   "nbconvert_exporter": "python",
   "pygments_lexer": "ipython3",
   "version": "3.6.9"
  }
 },
 "nbformat": 4,
 "nbformat_minor": 2
}
