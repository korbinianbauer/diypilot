{
 "cells": [
  {
   "cell_type": "code",
   "execution_count": 1,
   "metadata": {},
   "outputs": [],
   "source": [
    "import os\n",
    "import math\n",
    "\n",
    "import pandas as pd\n",
    "import numpy as np\n",
    "\n",
    "import sys\n",
    "sys.path.append(\"..\") # Adds higher directory to python modules path.\n",
    "from Jetson.autopilot.record.AutopilotGUI import AutopilotGUI"
   ]
  },
  {
   "cell_type": "code",
   "execution_count": 2,
   "metadata": {},
   "outputs": [
    {
     "data": {
      "text/plain": [
       "[['../notebooks/datasets/validation/Tag-Sonne-Wolken-Ausserorts/Tag-Sonne-Wolken-Ausserorts.csv',\n",
       "  '../notebooks/datasets/validation/Tag-Sonne-Wolken-Ausserorts/frames/'],\n",
       " ['../notebooks/datasets/validation/Nacht-Schneechaos/Nacht-Schneechaos.csv',\n",
       "  '../notebooks/datasets/validation/Nacht-Schneechaos/frames/']]"
      ]
     },
     "execution_count": 2,
     "metadata": {},
     "output_type": "execute_result"
    }
   ],
   "source": [
    "datasets_path = \"../notebooks/datasets/validation/\"\n",
    "sub_dirs = os.listdir(datasets_path)\n",
    "dataset_paths = [[datasets_path + sub_dir + \"/\" + sub_dir + \".csv\", datasets_path + sub_dir + \"/frames/\"] for sub_dir in sub_dirs]\n",
    "dataset_paths"
   ]
  },
  {
   "cell_type": "code",
   "execution_count": 3,
   "metadata": {},
   "outputs": [],
   "source": [
    "from RoadDataset import RoadDataset"
   ]
  },
  {
   "cell_type": "code",
   "execution_count": 4,
   "metadata": {},
   "outputs": [
    {
     "name": "stdout",
     "output_type": "stream",
     "text": [
      "Loaded dataset with 10474 samples\n"
     ]
    }
   ],
   "source": [
    "dataset_index = 0\n",
    "column_names = ['filename','steering_wheel_angle','speed', 'blink_l', 'blink_r']\n",
    "dataset = RoadDataset(dataset_paths[dataset_index][0], dataset_paths[dataset_index][1], column_names, mode='train')"
   ]
  },
  {
   "cell_type": "code",
   "execution_count": 5,
   "metadata": {},
   "outputs": [],
   "source": [
    "#dataset.pairplot()"
   ]
  },
  {
   "cell_type": "code",
   "execution_count": 6,
   "metadata": {},
   "outputs": [
    {
     "name": "stdout",
     "output_type": "stream",
     "text": [
      "Cleaning dataset. Starting with 10474 samples.\n",
      "Removing 1205 rows for reason: Low speed (< 25 km/h)\n",
      "Removing 541 rows for reason: High SWA (> +45/ < -45 deg)\n",
      "Removing 66 rows for reason: Left blinker on\n",
      "Removing 168 rows for reason: Right blinker on\n",
      "8494 samples remaining.\n"
     ]
    }
   ],
   "source": [
    "dataset.clean()"
   ]
  },
  {
   "cell_type": "code",
   "execution_count": 7,
   "metadata": {},
   "outputs": [],
   "source": [
    "#dataset.pairplot()"
   ]
  },
  {
   "cell_type": "code",
   "execution_count": 8,
   "metadata": {},
   "outputs": [
    {
     "name": "stdout",
     "output_type": "stream",
     "text": [
      "Balancing dataset. Starting with 8494 samples.\n",
      "2281 samples remaining.\n"
     ]
    }
   ],
   "source": [
    "dataset.balance()"
   ]
  },
  {
   "cell_type": "code",
   "execution_count": 9,
   "metadata": {},
   "outputs": [],
   "source": [
    "dataset.normalize()"
   ]
  },
  {
   "cell_type": "code",
   "execution_count": 10,
   "metadata": {},
   "outputs": [],
   "source": [
    "#dataset.pairplot()"
   ]
  },
  {
   "cell_type": "code",
   "execution_count": 11,
   "metadata": {},
   "outputs": [],
   "source": [
    "gui = AutopilotGUI()"
   ]
  },
  {
   "cell_type": "code",
   "execution_count": 12,
   "metadata": {},
   "outputs": [],
   "source": [
    "from tensorflow.keras.preprocessing.image import img_to_array"
   ]
  },
  {
   "cell_type": "code",
   "execution_count": 13,
   "metadata": {},
   "outputs": [],
   "source": [
    "def show_frame(index):\n",
    "    \n",
    "    frame = img_to_array(dataset.get_frame(index)[0])\n",
    "    gui.set_frame(frame)\n",
    "    gui.set_show_overlay(True)\n",
    "    gui.set_engaged(False)\n",
    "    gui.set_recording(True)\n",
    "    \n",
    "    blink_l = dataset.get_indicator_left(index)\n",
    "    print(\"blink_l: \" + str(blink_l))\n",
    "    gui.set_indicator_left(blink_l)\n",
    "    #gui.set_indicator_right(indicator_right)\n",
    "    #gui.set_cruise_control(cruise_control)\n",
    "    #gui.set_cruise_control_setpoint(cc_setpoint)\n",
    "    \n",
    "    velocity = dataset.get_velocity(index)\n",
    "    gui.set_velocity(velocity)\n",
    "    \n",
    "    timestamp = dataset.get_timestamp(index)\n",
    "    gui.set_timestring(timestamp)\n",
    "    \n",
    "    \n",
    "    actual_swa = dataset.get_swa(index)*90\n",
    "    print(\"actual_swa: \" + str(actual_swa))\n",
    "    gui.set_actual_swa(actual_swa)\n",
    "    #gui.set_predicted_swa(predicted_swa)\n",
    "    \n",
    "    gui.show_jupyter()\n",
    "    \n",
    "    \n",
    "from matplotlib import pyplot as plt\n",
    "    \n",
    "def show_crop(index, shift):\n",
    "    frame = img_to_array(dataset.get_cropped_frame(index, shift)[0])\n",
    "    plt.imshow(frame/255)\n",
    "    plt.show()"
   ]
  },
  {
   "cell_type": "code",
   "execution_count": 14,
   "metadata": {},
   "outputs": [],
   "source": [
    "import ipywidgets as widgets\n",
    "frame_slider = widgets.IntSlider(min=0, max=dataset.get_batch_size()*len(dataset)-1, continuous_update=False)"
   ]
  },
  {
   "cell_type": "code",
   "execution_count": 15,
   "metadata": {},
   "outputs": [
    {
     "data": {
      "application/vnd.jupyter.widget-view+json": {
       "model_id": "cb1b8e08281946f08e83c3a26d849bb6",
       "version_major": 2,
       "version_minor": 0
      },
      "text/plain": [
       "interactive(children=(IntSlider(value=0, continuous_update=False, description='index', max=2271), Output()), _…"
      ]
     },
     "metadata": {},
     "output_type": "display_data"
    }
   ],
   "source": [
    "from ipywidgets import interact\n",
    "\n",
    "interact(show_frame, index=frame_slider);"
   ]
  },
  {
   "cell_type": "code",
   "execution_count": 16,
   "metadata": {},
   "outputs": [],
   "source": [
    "crop_slider = widgets.IntSlider(min=0, max=dataset.get_batch_size()*len(dataset)-1, continuous_update=False)\n",
    "shift_slider = widgets.IntSlider(min=-100, max=100, continuous_update=False)"
   ]
  },
  {
   "cell_type": "code",
   "execution_count": 17,
   "metadata": {},
   "outputs": [
    {
     "data": {
      "application/vnd.jupyter.widget-view+json": {
       "model_id": "f09620d60d7447019a0685b093c5a063",
       "version_major": 2,
       "version_minor": 0
      },
      "text/plain": [
       "interactive(children=(IntSlider(value=0, continuous_update=False, description='index', max=2271), IntSlider(va…"
      ]
     },
     "metadata": {},
     "output_type": "display_data"
    }
   ],
   "source": [
    "interact(show_crop, index=crop_slider, shift = shift_slider);"
   ]
  },
  {
   "cell_type": "code",
   "execution_count": 18,
   "metadata": {},
   "outputs": [
    {
     "data": {
      "text/html": [
       "<div>\n",
       "<style scoped>\n",
       "    .dataframe tbody tr th:only-of-type {\n",
       "        vertical-align: middle;\n",
       "    }\n",
       "\n",
       "    .dataframe tbody tr th {\n",
       "        vertical-align: top;\n",
       "    }\n",
       "\n",
       "    .dataframe thead th {\n",
       "        text-align: right;\n",
       "    }\n",
       "</style>\n",
       "<table border=\"1\" class=\"dataframe\">\n",
       "  <thead>\n",
       "    <tr style=\"text-align: right;\">\n",
       "      <th></th>\n",
       "      <th>count</th>\n",
       "      <th>mean</th>\n",
       "      <th>std</th>\n",
       "      <th>min</th>\n",
       "      <th>25%</th>\n",
       "      <th>50%</th>\n",
       "      <th>75%</th>\n",
       "      <th>max</th>\n",
       "    </tr>\n",
       "  </thead>\n",
       "  <tbody>\n",
       "    <tr>\n",
       "      <th>steering_wheel_angle</th>\n",
       "      <td>2281.0</td>\n",
       "      <td>-0.003996</td>\n",
       "      <td>0.214219</td>\n",
       "      <td>-0.498111</td>\n",
       "      <td>-0.176</td>\n",
       "      <td>-0.000667</td>\n",
       "      <td>0.167667</td>\n",
       "      <td>0.480667</td>\n",
       "    </tr>\n",
       "    <tr>\n",
       "      <th>speed</th>\n",
       "      <td>2281.0</td>\n",
       "      <td>51.497224</td>\n",
       "      <td>11.559203</td>\n",
       "      <td>25.203000</td>\n",
       "      <td>43.648</td>\n",
       "      <td>50.840000</td>\n",
       "      <td>58.528000</td>\n",
       "      <td>77.066000</td>\n",
       "    </tr>\n",
       "    <tr>\n",
       "      <th>blink_l</th>\n",
       "      <td>2281.0</td>\n",
       "      <td>0.000000</td>\n",
       "      <td>0.000000</td>\n",
       "      <td>0.000000</td>\n",
       "      <td>0.000</td>\n",
       "      <td>0.000000</td>\n",
       "      <td>0.000000</td>\n",
       "      <td>0.000000</td>\n",
       "    </tr>\n",
       "    <tr>\n",
       "      <th>blink_r</th>\n",
       "      <td>2281.0</td>\n",
       "      <td>0.000000</td>\n",
       "      <td>0.000000</td>\n",
       "      <td>0.000000</td>\n",
       "      <td>0.000</td>\n",
       "      <td>0.000000</td>\n",
       "      <td>0.000000</td>\n",
       "      <td>0.000000</td>\n",
       "    </tr>\n",
       "  </tbody>\n",
       "</table>\n",
       "</div>"
      ],
      "text/plain": [
       "                       count       mean        std        min     25%  \\\n",
       "steering_wheel_angle  2281.0  -0.003996   0.214219  -0.498111  -0.176   \n",
       "speed                 2281.0  51.497224  11.559203  25.203000  43.648   \n",
       "blink_l               2281.0   0.000000   0.000000   0.000000   0.000   \n",
       "blink_r               2281.0   0.000000   0.000000   0.000000   0.000   \n",
       "\n",
       "                            50%        75%        max  \n",
       "steering_wheel_angle  -0.000667   0.167667   0.480667  \n",
       "speed                 50.840000  58.528000  77.066000  \n",
       "blink_l                0.000000   0.000000   0.000000  \n",
       "blink_r                0.000000   0.000000   0.000000  "
      ]
     },
     "execution_count": 18,
     "metadata": {},
     "output_type": "execute_result"
    }
   ],
   "source": [
    "train_stats = dataset.get_csv().describe()\n",
    "train_stats = train_stats.transpose()\n",
    "train_stats"
   ]
  },
  {
   "cell_type": "code",
   "execution_count": 19,
   "metadata": {},
   "outputs": [
    {
     "data": {
      "text/plain": [
       "array([-0.02088889,  0.08277778,  0.09044444,  0.09044444,  0.09044444,\n",
       "        0.09044444,  0.08488889,  0.06677778,  0.06188889,  0.05911111,\n",
       "       -0.15933333, -0.15933333, -0.15933333, -0.16144444, -0.16144444,\n",
       "       -0.16144444])"
      ]
     },
     "execution_count": 19,
     "metadata": {},
     "output_type": "execute_result"
    }
   ],
   "source": [
    "dataset.get_batch_labels(0)"
   ]
  },
  {
   "cell_type": "code",
   "execution_count": 20,
   "metadata": {},
   "outputs": [
    {
     "data": {
      "text/plain": [
       "array([[[[104.,  82.,  59.],\n",
       "         [102.,  80.,  57.],\n",
       "         [102.,  82.,  58.],\n",
       "         ...,\n",
       "         [ 90.,  77.,  61.],\n",
       "         [ 93.,  77.,  64.],\n",
       "         [ 99.,  83.,  70.]],\n",
       "\n",
       "        [[ 93.,  69.,  45.],\n",
       "         [101.,  76.,  54.],\n",
       "         [ 90.,  68.,  45.],\n",
       "         ...,\n",
       "         [100.,  86.,  73.],\n",
       "         [109.,  93.,  80.],\n",
       "         [ 99.,  83.,  70.]],\n",
       "\n",
       "        [[ 82.,  66.,  40.],\n",
       "         [ 86.,  70.,  44.],\n",
       "         [ 84.,  68.,  43.],\n",
       "         ...,\n",
       "         [104.,  95.,  90.],\n",
       "         [126., 117., 112.],\n",
       "         [147., 139., 136.]],\n",
       "\n",
       "        ...,\n",
       "\n",
       "        [[ 37.,  47.,  38.],\n",
       "         [ 39.,  49.,  40.],\n",
       "         [ 40.,  50.,  41.],\n",
       "         ...,\n",
       "         [ 80.,  78.,  57.],\n",
       "         [ 81.,  79.,  58.],\n",
       "         [ 80.,  78.,  57.]],\n",
       "\n",
       "        [[ 37.,  47.,  38.],\n",
       "         [ 38.,  48.,  39.],\n",
       "         [ 40.,  50.,  41.],\n",
       "         ...,\n",
       "         [ 80.,  78.,  57.],\n",
       "         [ 82.,  80.,  59.],\n",
       "         [ 83.,  81.,  60.]],\n",
       "\n",
       "        [[ 37.,  47.,  38.],\n",
       "         [ 39.,  49.,  40.],\n",
       "         [ 40.,  50.,  41.],\n",
       "         ...,\n",
       "         [ 80.,  75.,  55.],\n",
       "         [ 82.,  77.,  57.],\n",
       "         [ 84.,  79.,  59.]]],\n",
       "\n",
       "\n",
       "       [[[198., 184., 171.],\n",
       "         [199., 187., 173.],\n",
       "         [193., 184., 169.],\n",
       "         ...,\n",
       "         [251., 255., 252.],\n",
       "         [251., 255., 252.],\n",
       "         [251., 255., 252.]],\n",
       "\n",
       "        [[167., 151., 136.],\n",
       "         [185., 171., 158.],\n",
       "         [173., 161., 147.],\n",
       "         ...,\n",
       "         [247., 255., 251.],\n",
       "         [248., 255., 252.],\n",
       "         [248., 255., 252.]],\n",
       "\n",
       "        [[133., 110.,  96.],\n",
       "         [149., 126., 112.],\n",
       "         [141., 118., 104.],\n",
       "         ...,\n",
       "         [245., 250., 246.],\n",
       "         [249., 253., 252.],\n",
       "         [251., 255., 255.]],\n",
       "\n",
       "        ...,\n",
       "\n",
       "        [[ 46.,  51.,  45.],\n",
       "         [ 45.,  50.,  44.],\n",
       "         [ 45.,  50.,  44.],\n",
       "         ...,\n",
       "         [ 75.,  69.,  55.],\n",
       "         [ 71.,  65.,  51.],\n",
       "         [ 70.,  64.,  50.]],\n",
       "\n",
       "        [[ 46.,  51.,  45.],\n",
       "         [ 45.,  50.,  44.],\n",
       "         [ 46.,  51.,  45.],\n",
       "         ...,\n",
       "         [ 74.,  71.,  56.],\n",
       "         [ 70.,  67.,  50.],\n",
       "         [ 68.,  65.,  48.]],\n",
       "\n",
       "        [[ 47.,  52.,  46.],\n",
       "         [ 46.,  51.,  45.],\n",
       "         [ 47.,  52.,  46.],\n",
       "         ...,\n",
       "         [ 75.,  72.,  55.],\n",
       "         [ 71.,  68.,  51.],\n",
       "         [ 69.,  66.,  49.]]],\n",
       "\n",
       "\n",
       "       [[[128., 105.,  87.],\n",
       "         [129., 108.,  91.],\n",
       "         [141., 122., 107.],\n",
       "         ...,\n",
       "         [253., 255., 250.],\n",
       "         [253., 255., 250.],\n",
       "         [253., 255., 250.]],\n",
       "\n",
       "        [[110.,  85.,  65.],\n",
       "         [102.,  79.,  61.],\n",
       "         [111.,  90.,  73.],\n",
       "         ...,\n",
       "         [252., 254., 249.],\n",
       "         [252., 254., 249.],\n",
       "         [252., 254., 249.]],\n",
       "\n",
       "        [[ 95.,  78.,  58.],\n",
       "         [ 90.,  71.,  54.],\n",
       "         [105.,  83.,  69.],\n",
       "         ...,\n",
       "         [251., 252., 247.],\n",
       "         [252., 251., 247.],\n",
       "         [255., 254., 250.]],\n",
       "\n",
       "        ...,\n",
       "\n",
       "        [[ 47.,  52.,  45.],\n",
       "         [ 45.,  52.,  44.],\n",
       "         [ 45.,  52.,  44.],\n",
       "         ...,\n",
       "         [ 58.,  55.,  46.],\n",
       "         [ 55.,  52.,  43.],\n",
       "         [ 53.,  50.,  43.]],\n",
       "\n",
       "        [[ 44.,  51.,  43.],\n",
       "         [ 44.,  51.,  43.],\n",
       "         [ 43.,  50.,  42.],\n",
       "         ...,\n",
       "         [ 61.,  58.,  49.],\n",
       "         [ 56.,  53.,  44.],\n",
       "         [ 53.,  50.,  41.]],\n",
       "\n",
       "        [[ 45.,  52.,  45.],\n",
       "         [ 43.,  50.,  42.],\n",
       "         [ 42.,  49.,  41.],\n",
       "         ...,\n",
       "         [ 63.,  60.,  51.],\n",
       "         [ 58.,  55.,  46.],\n",
       "         [ 54.,  51.,  42.]]],\n",
       "\n",
       "\n",
       "       ...,\n",
       "\n",
       "\n",
       "       [[[161., 134., 127.],\n",
       "         [163., 136., 125.],\n",
       "         [162., 139., 123.],\n",
       "         ...,\n",
       "         [ 39.,  30.,  15.],\n",
       "         [ 56.,  44.,  30.],\n",
       "         [ 48.,  36.,  22.]],\n",
       "\n",
       "        [[157., 124., 119.],\n",
       "         [159., 126., 117.],\n",
       "         [160., 128., 115.],\n",
       "         ...,\n",
       "         [ 35.,  26.,  11.],\n",
       "         [ 56.,  44.,  30.],\n",
       "         [ 54.,  42.,  30.]],\n",
       "\n",
       "        [[132.,  85.,  79.],\n",
       "         [127.,  80.,  72.],\n",
       "         [128.,  81.,  73.],\n",
       "         ...,\n",
       "         [ 32.,  26.,  10.],\n",
       "         [ 42.,  36.,  20.],\n",
       "         [ 56.,  50.,  34.]],\n",
       "\n",
       "        ...,\n",
       "\n",
       "        [[ 59.,  58.,  40.],\n",
       "         [ 61.,  60.,  42.],\n",
       "         [ 61.,  60.,  42.],\n",
       "         ...,\n",
       "         [ 41.,  38.,  29.],\n",
       "         [ 42.,  39.,  30.],\n",
       "         [ 43.,  40.,  31.]],\n",
       "\n",
       "        [[ 59.,  58.,  38.],\n",
       "         [ 61.,  60.,  40.],\n",
       "         [ 60.,  59.,  41.],\n",
       "         ...,\n",
       "         [ 42.,  40.,  28.],\n",
       "         [ 42.,  40.,  28.],\n",
       "         [ 42.,  40.,  28.]],\n",
       "\n",
       "        [[ 59.,  58.,  38.],\n",
       "         [ 61.,  60.,  40.],\n",
       "         [ 60.,  59.,  41.],\n",
       "         ...,\n",
       "         [ 42.,  40.,  28.],\n",
       "         [ 42.,  40.,  28.],\n",
       "         [ 42.,  40.,  28.]]],\n",
       "\n",
       "\n",
       "       [[[152.,  96.,  83.],\n",
       "         [151.,  99.,  85.],\n",
       "         [147., 100.,  84.],\n",
       "         ...,\n",
       "         [ 49.,  32.,  16.],\n",
       "         [ 52.,  35.,  19.],\n",
       "         [ 53.,  36.,  20.]],\n",
       "\n",
       "        [[185., 126., 112.],\n",
       "         [183., 127., 112.],\n",
       "         [185., 133., 119.],\n",
       "         ...,\n",
       "         [ 49.,  32.,  16.],\n",
       "         [ 51.,  34.,  18.],\n",
       "         [ 52.,  35.,  19.]],\n",
       "\n",
       "        [[170., 152., 128.],\n",
       "         [172., 154., 130.],\n",
       "         [172., 154., 132.],\n",
       "         ...,\n",
       "         [ 48.,  32.,  19.],\n",
       "         [ 49.,  33.,  20.],\n",
       "         [ 51.,  35.,  22.]],\n",
       "\n",
       "        ...,\n",
       "\n",
       "        [[ 71.,  62.,  47.],\n",
       "         [ 70.,  61.,  46.],\n",
       "         [ 69.,  60.,  45.],\n",
       "         ...,\n",
       "         [ 39.,  34.,  28.],\n",
       "         [ 39.,  34.,  28.],\n",
       "         [ 40.,  35.,  29.]],\n",
       "\n",
       "        [[ 69.,  59.,  47.],\n",
       "         [ 69.,  59.,  47.],\n",
       "         [ 68.,  58.,  46.],\n",
       "         ...,\n",
       "         [ 39.,  34.,  28.],\n",
       "         [ 39.,  34.,  28.],\n",
       "         [ 42.,  35.,  29.]],\n",
       "\n",
       "        [[ 68.,  58.,  46.],\n",
       "         [ 67.,  57.,  45.],\n",
       "         [ 67.,  57.,  45.],\n",
       "         ...,\n",
       "         [ 39.,  34.,  28.],\n",
       "         [ 41.,  34.,  28.],\n",
       "         [ 41.,  34.,  28.]]],\n",
       "\n",
       "\n",
       "       [[[148., 128., 119.],\n",
       "         [142., 122., 111.],\n",
       "         [124., 104.,  93.],\n",
       "         ...,\n",
       "         [ 35.,  25.,  15.],\n",
       "         [ 37.,  24.,  15.],\n",
       "         [ 38.,  24.,  15.]],\n",
       "\n",
       "        [[144., 124., 113.],\n",
       "         [142., 122., 111.],\n",
       "         [107.,  87.,  76.],\n",
       "         ...,\n",
       "         [ 35.,  25.,  15.],\n",
       "         [ 37.,  24.,  15.],\n",
       "         [ 37.,  23.,  14.]],\n",
       "\n",
       "        [[108.,  84.,  84.],\n",
       "         [101.,  77.,  75.],\n",
       "         [ 86.,  62.,  58.],\n",
       "         ...,\n",
       "         [ 33.,  27.,  15.],\n",
       "         [ 34.,  26.,  15.],\n",
       "         [ 33.,  25.,  14.]],\n",
       "\n",
       "        ...,\n",
       "\n",
       "        [[ 63.,  59.,  47.],\n",
       "         [ 62.,  58.,  46.],\n",
       "         [ 62.,  58.,  46.],\n",
       "         ...,\n",
       "         [ 49.,  45.,  33.],\n",
       "         [ 48.,  44.,  32.],\n",
       "         [ 49.,  45.,  33.]],\n",
       "\n",
       "        [[ 63.,  59.,  47.],\n",
       "         [ 62.,  58.,  46.],\n",
       "         [ 62.,  58.,  46.],\n",
       "         ...,\n",
       "         [ 49.,  45.,  33.],\n",
       "         [ 48.,  44.,  32.],\n",
       "         [ 49.,  45.,  33.]],\n",
       "\n",
       "        [[ 63.,  59.,  47.],\n",
       "         [ 62.,  58.,  46.],\n",
       "         [ 62.,  58.,  46.],\n",
       "         ...,\n",
       "         [ 48.,  44.,  32.],\n",
       "         [ 47.,  43.,  31.],\n",
       "         [ 49.,  45.,  33.]]]], dtype=float32)"
      ]
     },
     "execution_count": 20,
     "metadata": {},
     "output_type": "execute_result"
    }
   ],
   "source": [
    "feature_batch = dataset.get_batch_features(0)\n",
    "feature_batch"
   ]
  },
  {
   "cell_type": "code",
   "execution_count": 21,
   "metadata": {},
   "outputs": [
    {
     "data": {
      "text/plain": [
       "142"
      ]
     },
     "execution_count": 21,
     "metadata": {},
     "output_type": "execute_result"
    }
   ],
   "source": [
    "batch_count = len(dataset)\n",
    "batch_count"
   ]
  },
  {
   "cell_type": "code",
   "execution_count": null,
   "metadata": {},
   "outputs": [],
   "source": []
  }
 ],
 "metadata": {
  "kernelspec": {
   "display_name": "Python 3",
   "language": "python",
   "name": "python3"
  },
  "language_info": {
   "codemirror_mode": {
    "name": "ipython",
    "version": 3
   },
   "file_extension": ".py",
   "mimetype": "text/x-python",
   "name": "python",
   "nbconvert_exporter": "python",
   "pygments_lexer": "ipython3",
   "version": "3.6.9"
  }
 },
 "nbformat": 4,
 "nbformat_minor": 2
}
