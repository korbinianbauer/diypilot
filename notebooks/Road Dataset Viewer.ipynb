{
 "cells": [
  {
   "cell_type": "code",
   "execution_count": 1,
   "metadata": {},
   "outputs": [],
   "source": [
    "import os\n",
    "import math\n",
    "\n",
    "import pandas as pd\n",
    "import numpy as np\n",
    "\n",
    "import sys\n",
    "sys.path.append(\"..\") # Adds higher directory to python modules path.\n",
    "from Jetson.autopilot.record.AutopilotGUI import AutopilotGUI"
   ]
  },
  {
   "cell_type": "code",
   "execution_count": 2,
   "metadata": {},
   "outputs": [
    {
     "data": {
      "text/plain": [
       "[['../notebooks/datasets/train/Sun Dec 27 18_09_33 2020/Sun Dec 27 18_09_33 2020.csv',\n",
       "  '../notebooks/datasets/train/Sun Dec 27 18_09_33 2020/frames/'],\n",
       " ['../notebooks/datasets/train/Sun Dec 27 17_46_56 2020/Sun Dec 27 17_46_56 2020.csv',\n",
       "  '../notebooks/datasets/train/Sun Dec 27 17_46_56 2020/frames/'],\n",
       " ['../notebooks/datasets/train/Sun Feb 21 21:50:50 2021/Sun Feb 21 21:50:50 2021.csv',\n",
       "  '../notebooks/datasets/train/Sun Feb 21 21:50:50 2021/frames/'],\n",
       " ['../notebooks/datasets/train/Sun Dec 27 18_01_53 2020/Sun Dec 27 18_01_53 2020.csv',\n",
       "  '../notebooks/datasets/train/Sun Dec 27 18_01_53 2020/frames/'],\n",
       " ['../notebooks/datasets/train/Wed Dec 30 17_34_37 2020/Wed Dec 30 17_34_37 2020.csv',\n",
       "  '../notebooks/datasets/train/Wed Dec 30 17_34_37 2020/frames/'],\n",
       " ['../notebooks/datasets/train/Sun Jan 10 11:31:18 2021/Sun Jan 10 11:31:18 2021.csv',\n",
       "  '../notebooks/datasets/train/Sun Jan 10 11:31:18 2021/frames/'],\n",
       " ['../notebooks/datasets/train/Sun Dec 27 18_25_24 2020/Sun Dec 27 18_25_24 2020.csv',\n",
       "  '../notebooks/datasets/train/Sun Dec 27 18_25_24 2020/frames/'],\n",
       " ['../notebooks/datasets/train/Sun Feb 21 21:50:56 2021/Sun Feb 21 21:50:56 2021.csv',\n",
       "  '../notebooks/datasets/train/Sun Feb 21 21:50:56 2021/frames/'],\n",
       " ['../notebooks/datasets/train/Sun Jan 10 11:31:12 2021/Sun Jan 10 11:31:12 2021.csv',\n",
       "  '../notebooks/datasets/train/Sun Jan 10 11:31:12 2021/frames/'],\n",
       " ['../notebooks/datasets/train/Sun Jan 10 11:36:21 2021/Sun Jan 10 11:36:21 2021.csv',\n",
       "  '../notebooks/datasets/train/Sun Jan 10 11:36:21 2021/frames/'],\n",
       " ['../notebooks/datasets/train/Sun Jan 10 11:53:16 2021/Sun Jan 10 11:53:16 2021.csv',\n",
       "  '../notebooks/datasets/train/Sun Jan 10 11:53:16 2021/frames/'],\n",
       " ['../notebooks/datasets/train/Sun Feb 21 21:50:18 2021/Sun Feb 21 21:50:18 2021.csv',\n",
       "  '../notebooks/datasets/train/Sun Feb 21 21:50:18 2021/frames/'],\n",
       " ['../notebooks/datasets/train/Sun Feb 21 21:50:45 2021/Sun Feb 21 21:50:45 2021.csv',\n",
       "  '../notebooks/datasets/train/Sun Feb 21 21:50:45 2021/frames/'],\n",
       " ['../notebooks/datasets/train/Sun Feb 21 21:50:22 2021/Sun Feb 21 21:50:22 2021.csv',\n",
       "  '../notebooks/datasets/train/Sun Feb 21 21:50:22 2021/frames/'],\n",
       " ['../notebooks/datasets/train/Sun Jan 10 11:30:28 2021/Sun Jan 10 11:30:28 2021.csv',\n",
       "  '../notebooks/datasets/train/Sun Jan 10 11:30:28 2021/frames/'],\n",
       " ['../notebooks/datasets/train/Sun Jan 10 11:32:53 2021/Sun Jan 10 11:32:53 2021.csv',\n",
       "  '../notebooks/datasets/train/Sun Jan 10 11:32:53 2021/frames/'],\n",
       " ['../notebooks/datasets/train/Wed Dec 30 17_38_58 2020/Wed Dec 30 17_38_58 2020.csv',\n",
       "  '../notebooks/datasets/train/Wed Dec 30 17_38_58 2020/frames/'],\n",
       " ['../notebooks/datasets/train/Sun Feb 21 21:51:28 2021/Sun Feb 21 21:51:28 2021.csv',\n",
       "  '../notebooks/datasets/train/Sun Feb 21 21:51:28 2021/frames/'],\n",
       " ['../notebooks/datasets/train/Sun Jan 10 11:37:32 2021/Sun Jan 10 11:37:32 2021.csv',\n",
       "  '../notebooks/datasets/train/Sun Jan 10 11:37:32 2021/frames/'],\n",
       " ['../notebooks/datasets/train/Sun Jan 10 11:35:01 2021/Sun Jan 10 11:35:01 2021.csv',\n",
       "  '../notebooks/datasets/train/Sun Jan 10 11:35:01 2021/frames/'],\n",
       " ['../notebooks/datasets/train/Wed Dec 30 17_34_20 2020/Wed Dec 30 17_34_20 2020.csv',\n",
       "  '../notebooks/datasets/train/Wed Dec 30 17_34_20 2020/frames/'],\n",
       " ['../notebooks/datasets/train/Sun Jan 10 11:39:52 2021/Sun Jan 10 11:39:52 2021.csv',\n",
       "  '../notebooks/datasets/train/Sun Jan 10 11:39:52 2021/frames/'],\n",
       " ['../notebooks/datasets/train/Sun Feb 21 21:50:28 2021/Sun Feb 21 21:50:28 2021.csv',\n",
       "  '../notebooks/datasets/train/Sun Feb 21 21:50:28 2021/frames/'],\n",
       " ['../notebooks/datasets/train/Sun Dec 27 17_44_41 2020/Sun Dec 27 17_44_41 2020.csv',\n",
       "  '../notebooks/datasets/train/Sun Dec 27 17_44_41 2020/frames/'],\n",
       " ['../notebooks/datasets/train/Sun Jan 10 11:30:37 2021/Sun Jan 10 11:30:37 2021.csv',\n",
       "  '../notebooks/datasets/train/Sun Jan 10 11:30:37 2021/frames/'],\n",
       " ['../notebooks/datasets/train/Sun Dec 27 18_16_30 2020/Sun Dec 27 18_16_30 2020.csv',\n",
       "  '../notebooks/datasets/train/Sun Dec 27 18_16_30 2020/frames/'],\n",
       " ['../notebooks/datasets/train/Sun Feb 21 21:50:25 2021/Sun Feb 21 21:50:25 2021.csv',\n",
       "  '../notebooks/datasets/train/Sun Feb 21 21:50:25 2021/frames/'],\n",
       " ['../notebooks/datasets/train/Sun Feb 21 22:00:30 2021/Sun Feb 21 22:00:30 2021.csv',\n",
       "  '../notebooks/datasets/train/Sun Feb 21 22:00:30 2021/frames/'],\n",
       " ['../notebooks/datasets/train/Sun Jan 10 11:30:59 2021/Sun Jan 10 11:30:59 2021.csv',\n",
       "  '../notebooks/datasets/train/Sun Jan 10 11:30:59 2021/frames/'],\n",
       " ['../notebooks/datasets/train/Sun Jan 10 12:06:33 2021/Sun Jan 10 12:06:33 2021.csv',\n",
       "  '../notebooks/datasets/train/Sun Jan 10 12:06:33 2021/frames/'],\n",
       " ['../notebooks/datasets/train/Sun Jan 10 11:31:00 2021/Sun Jan 10 11:31:00 2021.csv',\n",
       "  '../notebooks/datasets/train/Sun Jan 10 11:31:00 2021/frames/'],\n",
       " ['../notebooks/datasets/train/Sun Jan 10 11:30:40 2021/Sun Jan 10 11:30:40 2021.csv',\n",
       "  '../notebooks/datasets/train/Sun Jan 10 11:30:40 2021/frames/'],\n",
       " ['../notebooks/datasets/train/Sun Feb 21 21:51:55 2021/Sun Feb 21 21:51:55 2021.csv',\n",
       "  '../notebooks/datasets/train/Sun Feb 21 21:51:55 2021/frames/'],\n",
       " ['../notebooks/datasets/train/Wed Dec 30 17_33_58 2020/Wed Dec 30 17_33_58 2020.csv',\n",
       "  '../notebooks/datasets/train/Wed Dec 30 17_33_58 2020/frames/'],\n",
       " ['../notebooks/datasets/train/Sun Feb 21 21:51:20 2021/Sun Feb 21 21:51:20 2021.csv',\n",
       "  '../notebooks/datasets/train/Sun Feb 21 21:51:20 2021/frames/'],\n",
       " ['../notebooks/datasets/train/Sun Jan 10 11:30:35 2021/Sun Jan 10 11:30:35 2021.csv',\n",
       "  '../notebooks/datasets/train/Sun Jan 10 11:30:35 2021/frames/'],\n",
       " ['../notebooks/datasets/train/Sun Dec 27 18_03_29 2020/Sun Dec 27 18_03_29 2020.csv',\n",
       "  '../notebooks/datasets/train/Sun Dec 27 18_03_29 2020/frames/'],\n",
       " ['../notebooks/datasets/train/Sun Jan 10 11:30:24 2021/Sun Jan 10 11:30:24 2021.csv',\n",
       "  '../notebooks/datasets/train/Sun Jan 10 11:30:24 2021/frames/'],\n",
       " ['../notebooks/datasets/train/Sun Dec 27 18_02_04 2020/Sun Dec 27 18_02_04 2020.csv',\n",
       "  '../notebooks/datasets/train/Sun Dec 27 18_02_04 2020/frames/'],\n",
       " ['../notebooks/datasets/train/Sun Feb 21 21:50:24 2021/Sun Feb 21 21:50:24 2021.csv',\n",
       "  '../notebooks/datasets/train/Sun Feb 21 21:50:24 2021/frames/'],\n",
       " ['../notebooks/datasets/train/Sun Jan 10 11:30:47 2021/Sun Jan 10 11:30:47 2021.csv',\n",
       "  '../notebooks/datasets/train/Sun Jan 10 11:30:47 2021/frames/'],\n",
       " ['../notebooks/datasets/train/Sun Jan 10 11:31:01 2021/Sun Jan 10 11:31:01 2021.csv',\n",
       "  '../notebooks/datasets/train/Sun Jan 10 11:31:01 2021/frames/'],\n",
       " ['../notebooks/datasets/train/Sun Jan 10 11:31:05 2021/Sun Jan 10 11:31:05 2021.csv',\n",
       "  '../notebooks/datasets/train/Sun Jan 10 11:31:05 2021/frames/'],\n",
       " ['../notebooks/datasets/train/Sun Dec 27 18_02_05 2020/Sun Dec 27 18_02_05 2020.csv',\n",
       "  '../notebooks/datasets/train/Sun Dec 27 18_02_05 2020/frames/'],\n",
       " ['../notebooks/datasets/train/Wed Dec 30 18_07_31 2020/Wed Dec 30 18_07_31 2020.csv',\n",
       "  '../notebooks/datasets/train/Wed Dec 30 18_07_31 2020/frames/'],\n",
       " ['../notebooks/datasets/train/Sun Jan 10 11:31:10 2021/Sun Jan 10 11:31:10 2021.csv',\n",
       "  '../notebooks/datasets/train/Sun Jan 10 11:31:10 2021/frames/'],\n",
       " ['../notebooks/datasets/train/Sun Dec 27 18_01_50 2020/Sun Dec 27 18_01_50 2020.csv',\n",
       "  '../notebooks/datasets/train/Sun Dec 27 18_01_50 2020/frames/'],\n",
       " ['../notebooks/datasets/train/Sun Feb 21 21:50:27 2021/Sun Feb 21 21:50:27 2021.csv',\n",
       "  '../notebooks/datasets/train/Sun Feb 21 21:50:27 2021/frames/'],\n",
       " ['../notebooks/datasets/train/Sun Feb 21 21:51:46 2021/Sun Feb 21 21:51:46 2021.csv',\n",
       "  '../notebooks/datasets/train/Sun Feb 21 21:51:46 2021/frames/'],\n",
       " ['../notebooks/datasets/train/Sun Feb 21 21:50:17 2021/Sun Feb 21 21:50:17 2021.csv',\n",
       "  '../notebooks/datasets/train/Sun Feb 21 21:50:17 2021/frames/'],\n",
       " ['../notebooks/datasets/train/Sun Jan 10 11:31:15 2021/Sun Jan 10 11:31:15 2021.csv',\n",
       "  '../notebooks/datasets/train/Sun Jan 10 11:31:15 2021/frames/'],\n",
       " ['../notebooks/datasets/train/Sun Dec 27 18_22_55 2020/Sun Dec 27 18_22_55 2020.csv',\n",
       "  '../notebooks/datasets/train/Sun Dec 27 18_22_55 2020/frames/'],\n",
       " ['../notebooks/datasets/train/Wed Dec 30 18_06_43 2020/Wed Dec 30 18_06_43 2020.csv',\n",
       "  '../notebooks/datasets/train/Wed Dec 30 18_06_43 2020/frames/'],\n",
       " ['../notebooks/datasets/train/Sun Feb 21 21:58:44 2021/Sun Feb 21 21:58:44 2021.csv',\n",
       "  '../notebooks/datasets/train/Sun Feb 21 21:58:44 2021/frames/']]"
      ]
     },
     "execution_count": 2,
     "metadata": {},
     "output_type": "execute_result"
    }
   ],
   "source": [
    "datasets_path = \"../notebooks/datasets/train/\"\n",
    "sub_dirs = os.listdir(datasets_path)\n",
    "dataset_paths = [[datasets_path + sub_dir + \"/\" + sub_dir + \".csv\", datasets_path + sub_dir + \"/frames/\"] for sub_dir in sub_dirs]\n",
    "dataset_paths"
   ]
  },
  {
   "cell_type": "code",
   "execution_count": 3,
   "metadata": {},
   "outputs": [],
   "source": [
    "from RoadDataset import RoadDataset"
   ]
  },
  {
   "cell_type": "code",
   "execution_count": 4,
   "metadata": {},
   "outputs": [
    {
     "name": "stdout",
     "output_type": "stream",
     "text": [
      "Reading csv file: ../notebooks/datasets/train/Sun Jan 10 11:31:18 2021/Sun Jan 10 11:31:18 2021.csv\n",
      "Loaded dataset with 17985 samples\n"
     ]
    }
   ],
   "source": [
    "dataset_index = 5\n",
    "column_names = ['filename','steering_wheel_angle','speed', 'blink_l', 'blink_r']\n",
    "dataset = RoadDataset(dataset_paths[dataset_index][0], dataset_paths[dataset_index][1], column_names, mode='train')"
   ]
  },
  {
   "cell_type": "code",
   "execution_count": 5,
   "metadata": {},
   "outputs": [
    {
     "data": {
      "text/html": [
       "<div>\n",
       "<style scoped>\n",
       "    .dataframe tbody tr th:only-of-type {\n",
       "        vertical-align: middle;\n",
       "    }\n",
       "\n",
       "    .dataframe tbody tr th {\n",
       "        vertical-align: top;\n",
       "    }\n",
       "\n",
       "    .dataframe thead th {\n",
       "        text-align: right;\n",
       "    }\n",
       "</style>\n",
       "<table border=\"1\" class=\"dataframe\">\n",
       "  <thead>\n",
       "    <tr style=\"text-align: right;\">\n",
       "      <th></th>\n",
       "      <th>count</th>\n",
       "      <th>mean</th>\n",
       "      <th>std</th>\n",
       "      <th>min</th>\n",
       "      <th>25%</th>\n",
       "      <th>50%</th>\n",
       "      <th>75%</th>\n",
       "      <th>max</th>\n",
       "    </tr>\n",
       "  </thead>\n",
       "  <tbody>\n",
       "    <tr>\n",
       "      <th>steering_wheel_angle</th>\n",
       "      <td>17985.0</td>\n",
       "      <td>-1.271925</td>\n",
       "      <td>27.401124</td>\n",
       "      <td>-200.10</td>\n",
       "      <td>-6.570</td>\n",
       "      <td>-1.440</td>\n",
       "      <td>2.130</td>\n",
       "      <td>160.090</td>\n",
       "    </tr>\n",
       "    <tr>\n",
       "      <th>speed</th>\n",
       "      <td>17985.0</td>\n",
       "      <td>61.857026</td>\n",
       "      <td>18.846622</td>\n",
       "      <td>11.47</td>\n",
       "      <td>46.996</td>\n",
       "      <td>59.055</td>\n",
       "      <td>76.663</td>\n",
       "      <td>103.323</td>\n",
       "    </tr>\n",
       "    <tr>\n",
       "      <th>blink_l</th>\n",
       "      <td>17985.0</td>\n",
       "      <td>0.006950</td>\n",
       "      <td>0.083080</td>\n",
       "      <td>0.00</td>\n",
       "      <td>0.000</td>\n",
       "      <td>0.000</td>\n",
       "      <td>0.000</td>\n",
       "      <td>1.000</td>\n",
       "    </tr>\n",
       "    <tr>\n",
       "      <th>blink_r</th>\n",
       "      <td>17985.0</td>\n",
       "      <td>0.019016</td>\n",
       "      <td>0.136584</td>\n",
       "      <td>0.00</td>\n",
       "      <td>0.000</td>\n",
       "      <td>0.000</td>\n",
       "      <td>0.000</td>\n",
       "      <td>1.000</td>\n",
       "    </tr>\n",
       "  </tbody>\n",
       "</table>\n",
       "</div>"
      ],
      "text/plain": [
       "                        count       mean        std     min     25%     50%  \\\n",
       "steering_wheel_angle  17985.0  -1.271925  27.401124 -200.10  -6.570  -1.440   \n",
       "speed                 17985.0  61.857026  18.846622   11.47  46.996  59.055   \n",
       "blink_l               17985.0   0.006950   0.083080    0.00   0.000   0.000   \n",
       "blink_r               17985.0   0.019016   0.136584    0.00   0.000   0.000   \n",
       "\n",
       "                         75%      max  \n",
       "steering_wheel_angle   2.130  160.090  \n",
       "speed                 76.663  103.323  \n",
       "blink_l                0.000    1.000  \n",
       "blink_r                0.000    1.000  "
      ]
     },
     "execution_count": 5,
     "metadata": {},
     "output_type": "execute_result"
    }
   ],
   "source": [
    "stats = dataset.get_csv().describe()\n",
    "stats = stats.transpose()\n",
    "stats"
   ]
  },
  {
   "cell_type": "code",
   "execution_count": 6,
   "metadata": {},
   "outputs": [],
   "source": [
    "#dataset.pairplot()"
   ]
  },
  {
   "cell_type": "code",
   "execution_count": 7,
   "metadata": {},
   "outputs": [
    {
     "name": "stdout",
     "output_type": "stream",
     "text": [
      "Cleaning dataset. Starting with 17985 samples.\n",
      "Removing 439 rows for reason: Low speed (< 25 km/h)\n",
      "Removing 821 rows for reason: High SWA (> +45/ < -45 deg)\n",
      "Removing 68 rows for reason: Left blinker on\n",
      "Removing 151 rows for reason: Right blinker on\n",
      "16506 samples remaining.\n"
     ]
    }
   ],
   "source": [
    "dataset.clean()"
   ]
  },
  {
   "cell_type": "code",
   "execution_count": 8,
   "metadata": {},
   "outputs": [
    {
     "data": {
      "text/html": [
       "<div>\n",
       "<style scoped>\n",
       "    .dataframe tbody tr th:only-of-type {\n",
       "        vertical-align: middle;\n",
       "    }\n",
       "\n",
       "    .dataframe tbody tr th {\n",
       "        vertical-align: top;\n",
       "    }\n",
       "\n",
       "    .dataframe thead th {\n",
       "        text-align: right;\n",
       "    }\n",
       "</style>\n",
       "<table border=\"1\" class=\"dataframe\">\n",
       "  <thead>\n",
       "    <tr style=\"text-align: right;\">\n",
       "      <th></th>\n",
       "      <th>count</th>\n",
       "      <th>mean</th>\n",
       "      <th>std</th>\n",
       "      <th>min</th>\n",
       "      <th>25%</th>\n",
       "      <th>50%</th>\n",
       "      <th>75%</th>\n",
       "      <th>max</th>\n",
       "    </tr>\n",
       "  </thead>\n",
       "  <tbody>\n",
       "    <tr>\n",
       "      <th>steering_wheel_angle</th>\n",
       "      <td>16506.0</td>\n",
       "      <td>-1.856281</td>\n",
       "      <td>11.589330</td>\n",
       "      <td>-44.890</td>\n",
       "      <td>-5.82000</td>\n",
       "      <td>-1.440</td>\n",
       "      <td>1.630</td>\n",
       "      <td>44.830</td>\n",
       "    </tr>\n",
       "    <tr>\n",
       "      <th>speed</th>\n",
       "      <td>16506.0</td>\n",
       "      <td>64.145716</td>\n",
       "      <td>17.278519</td>\n",
       "      <td>25.048</td>\n",
       "      <td>48.98775</td>\n",
       "      <td>61.628</td>\n",
       "      <td>77.903</td>\n",
       "      <td>103.323</td>\n",
       "    </tr>\n",
       "    <tr>\n",
       "      <th>blink_l</th>\n",
       "      <td>16506.0</td>\n",
       "      <td>0.000000</td>\n",
       "      <td>0.000000</td>\n",
       "      <td>0.000</td>\n",
       "      <td>0.00000</td>\n",
       "      <td>0.000</td>\n",
       "      <td>0.000</td>\n",
       "      <td>0.000</td>\n",
       "    </tr>\n",
       "    <tr>\n",
       "      <th>blink_r</th>\n",
       "      <td>16506.0</td>\n",
       "      <td>0.000000</td>\n",
       "      <td>0.000000</td>\n",
       "      <td>0.000</td>\n",
       "      <td>0.00000</td>\n",
       "      <td>0.000</td>\n",
       "      <td>0.000</td>\n",
       "      <td>0.000</td>\n",
       "    </tr>\n",
       "  </tbody>\n",
       "</table>\n",
       "</div>"
      ],
      "text/plain": [
       "                        count       mean        std     min       25%     50%  \\\n",
       "steering_wheel_angle  16506.0  -1.856281  11.589330 -44.890  -5.82000  -1.440   \n",
       "speed                 16506.0  64.145716  17.278519  25.048  48.98775  61.628   \n",
       "blink_l               16506.0   0.000000   0.000000   0.000   0.00000   0.000   \n",
       "blink_r               16506.0   0.000000   0.000000   0.000   0.00000   0.000   \n",
       "\n",
       "                         75%      max  \n",
       "steering_wheel_angle   1.630   44.830  \n",
       "speed                 77.903  103.323  \n",
       "blink_l                0.000    0.000  \n",
       "blink_r                0.000    0.000  "
      ]
     },
     "execution_count": 8,
     "metadata": {},
     "output_type": "execute_result"
    }
   ],
   "source": [
    "stats = dataset.get_csv().describe()\n",
    "stats = stats.transpose()\n",
    "stats"
   ]
  },
  {
   "cell_type": "code",
   "execution_count": 9,
   "metadata": {},
   "outputs": [],
   "source": [
    "#dataset.pairplot()"
   ]
  },
  {
   "cell_type": "code",
   "execution_count": 10,
   "metadata": {},
   "outputs": [],
   "source": [
    "#dataset.balance()"
   ]
  },
  {
   "cell_type": "code",
   "execution_count": 11,
   "metadata": {},
   "outputs": [],
   "source": [
    "#dataset.pairplot()"
   ]
  },
  {
   "cell_type": "code",
   "execution_count": 12,
   "metadata": {},
   "outputs": [
    {
     "data": {
      "text/html": [
       "<div>\n",
       "<style scoped>\n",
       "    .dataframe tbody tr th:only-of-type {\n",
       "        vertical-align: middle;\n",
       "    }\n",
       "\n",
       "    .dataframe tbody tr th {\n",
       "        vertical-align: top;\n",
       "    }\n",
       "\n",
       "    .dataframe thead th {\n",
       "        text-align: right;\n",
       "    }\n",
       "</style>\n",
       "<table border=\"1\" class=\"dataframe\">\n",
       "  <thead>\n",
       "    <tr style=\"text-align: right;\">\n",
       "      <th></th>\n",
       "      <th>count</th>\n",
       "      <th>mean</th>\n",
       "      <th>std</th>\n",
       "      <th>min</th>\n",
       "      <th>25%</th>\n",
       "      <th>50%</th>\n",
       "      <th>75%</th>\n",
       "      <th>max</th>\n",
       "    </tr>\n",
       "  </thead>\n",
       "  <tbody>\n",
       "    <tr>\n",
       "      <th>steering_wheel_angle</th>\n",
       "      <td>16506.0</td>\n",
       "      <td>-1.856281</td>\n",
       "      <td>11.589330</td>\n",
       "      <td>-44.890</td>\n",
       "      <td>-5.82000</td>\n",
       "      <td>-1.440</td>\n",
       "      <td>1.630</td>\n",
       "      <td>44.830</td>\n",
       "    </tr>\n",
       "    <tr>\n",
       "      <th>speed</th>\n",
       "      <td>16506.0</td>\n",
       "      <td>64.145716</td>\n",
       "      <td>17.278519</td>\n",
       "      <td>25.048</td>\n",
       "      <td>48.98775</td>\n",
       "      <td>61.628</td>\n",
       "      <td>77.903</td>\n",
       "      <td>103.323</td>\n",
       "    </tr>\n",
       "    <tr>\n",
       "      <th>blink_l</th>\n",
       "      <td>16506.0</td>\n",
       "      <td>0.000000</td>\n",
       "      <td>0.000000</td>\n",
       "      <td>0.000</td>\n",
       "      <td>0.00000</td>\n",
       "      <td>0.000</td>\n",
       "      <td>0.000</td>\n",
       "      <td>0.000</td>\n",
       "    </tr>\n",
       "    <tr>\n",
       "      <th>blink_r</th>\n",
       "      <td>16506.0</td>\n",
       "      <td>0.000000</td>\n",
       "      <td>0.000000</td>\n",
       "      <td>0.000</td>\n",
       "      <td>0.00000</td>\n",
       "      <td>0.000</td>\n",
       "      <td>0.000</td>\n",
       "      <td>0.000</td>\n",
       "    </tr>\n",
       "  </tbody>\n",
       "</table>\n",
       "</div>"
      ],
      "text/plain": [
       "                        count       mean        std     min       25%     50%  \\\n",
       "steering_wheel_angle  16506.0  -1.856281  11.589330 -44.890  -5.82000  -1.440   \n",
       "speed                 16506.0  64.145716  17.278519  25.048  48.98775  61.628   \n",
       "blink_l               16506.0   0.000000   0.000000   0.000   0.00000   0.000   \n",
       "blink_r               16506.0   0.000000   0.000000   0.000   0.00000   0.000   \n",
       "\n",
       "                         75%      max  \n",
       "steering_wheel_angle   1.630   44.830  \n",
       "speed                 77.903  103.323  \n",
       "blink_l                0.000    0.000  \n",
       "blink_r                0.000    0.000  "
      ]
     },
     "execution_count": 12,
     "metadata": {},
     "output_type": "execute_result"
    }
   ],
   "source": [
    "stats = dataset.get_csv().describe()\n",
    "stats = stats.transpose()\n",
    "stats"
   ]
  },
  {
   "cell_type": "code",
   "execution_count": 13,
   "metadata": {},
   "outputs": [
    {
     "data": {
      "text/html": [
       "<div>\n",
       "<style scoped>\n",
       "    .dataframe tbody tr th:only-of-type {\n",
       "        vertical-align: middle;\n",
       "    }\n",
       "\n",
       "    .dataframe tbody tr th {\n",
       "        vertical-align: top;\n",
       "    }\n",
       "\n",
       "    .dataframe thead th {\n",
       "        text-align: right;\n",
       "    }\n",
       "</style>\n",
       "<table border=\"1\" class=\"dataframe\">\n",
       "  <thead>\n",
       "    <tr style=\"text-align: right;\">\n",
       "      <th></th>\n",
       "      <th>count</th>\n",
       "      <th>mean</th>\n",
       "      <th>std</th>\n",
       "      <th>min</th>\n",
       "      <th>25%</th>\n",
       "      <th>50%</th>\n",
       "      <th>75%</th>\n",
       "      <th>max</th>\n",
       "    </tr>\n",
       "  </thead>\n",
       "  <tbody>\n",
       "    <tr>\n",
       "      <th>steering_wheel_angle</th>\n",
       "      <td>16506.0</td>\n",
       "      <td>-1.856281</td>\n",
       "      <td>11.589330</td>\n",
       "      <td>-44.890</td>\n",
       "      <td>-5.82000</td>\n",
       "      <td>-1.440</td>\n",
       "      <td>1.630</td>\n",
       "      <td>44.830</td>\n",
       "    </tr>\n",
       "    <tr>\n",
       "      <th>speed</th>\n",
       "      <td>16506.0</td>\n",
       "      <td>64.145716</td>\n",
       "      <td>17.278519</td>\n",
       "      <td>25.048</td>\n",
       "      <td>48.98775</td>\n",
       "      <td>61.628</td>\n",
       "      <td>77.903</td>\n",
       "      <td>103.323</td>\n",
       "    </tr>\n",
       "    <tr>\n",
       "      <th>blink_l</th>\n",
       "      <td>16506.0</td>\n",
       "      <td>0.000000</td>\n",
       "      <td>0.000000</td>\n",
       "      <td>0.000</td>\n",
       "      <td>0.00000</td>\n",
       "      <td>0.000</td>\n",
       "      <td>0.000</td>\n",
       "      <td>0.000</td>\n",
       "    </tr>\n",
       "    <tr>\n",
       "      <th>blink_r</th>\n",
       "      <td>16506.0</td>\n",
       "      <td>0.000000</td>\n",
       "      <td>0.000000</td>\n",
       "      <td>0.000</td>\n",
       "      <td>0.00000</td>\n",
       "      <td>0.000</td>\n",
       "      <td>0.000</td>\n",
       "      <td>0.000</td>\n",
       "    </tr>\n",
       "  </tbody>\n",
       "</table>\n",
       "</div>"
      ],
      "text/plain": [
       "                        count       mean        std     min       25%     50%  \\\n",
       "steering_wheel_angle  16506.0  -1.856281  11.589330 -44.890  -5.82000  -1.440   \n",
       "speed                 16506.0  64.145716  17.278519  25.048  48.98775  61.628   \n",
       "blink_l               16506.0   0.000000   0.000000   0.000   0.00000   0.000   \n",
       "blink_r               16506.0   0.000000   0.000000   0.000   0.00000   0.000   \n",
       "\n",
       "                         75%      max  \n",
       "steering_wheel_angle   1.630   44.830  \n",
       "speed                 77.903  103.323  \n",
       "blink_l                0.000    0.000  \n",
       "blink_r                0.000    0.000  "
      ]
     },
     "execution_count": 13,
     "metadata": {},
     "output_type": "execute_result"
    }
   ],
   "source": [
    "stats = dataset.get_csv().describe()\n",
    "stats = stats.transpose()\n",
    "stats"
   ]
  },
  {
   "cell_type": "code",
   "execution_count": 14,
   "metadata": {},
   "outputs": [
    {
     "data": {
      "text/plain": [
       "0.08421203737361498"
      ]
     },
     "execution_count": 14,
     "metadata": {},
     "output_type": "execute_result"
    }
   ],
   "source": [
    "swas = dataset.get_csv()['steering_wheel_angle']\n",
    "np.mean(abs(swas))/90"
   ]
  },
  {
   "cell_type": "code",
   "execution_count": 15,
   "metadata": {},
   "outputs": [
    {
     "data": {
      "image/png": "[encoded data removed]",
      "text/plain": [
       "<Figure size 432x288 with 1 Axes>"
      ]
     },
     "metadata": {
      "needs_background": "light"
     },
     "output_type": "display_data"
    }
   ],
   "source": [
    "swas = np.array(dataset.get_csv()['steering_wheel_angle'])\n",
    "\n",
    "from matplotlib import pyplot as plt\n",
    "\n",
    "plt.hist(swas, bins = 100)\n",
    "plt.show()"
   ]
  },
  {
   "cell_type": "code",
   "execution_count": 16,
   "metadata": {},
   "outputs": [
    {
     "data": {
      "image/png": "[encoded data removed]",
      "text/plain": [
       "<Figure size 432x288 with 1 Axes>"
      ]
     },
     "metadata": {
      "needs_background": "light"
     },
     "output_type": "display_data"
    }
   ],
   "source": [
    "log_normed_swas = [dataset.normalize_swa(swa) for swa in swas]\n",
    "plt.hist(log_normed_swas, bins = 100)\n",
    "plt.show()"
   ]
  },
  {
   "cell_type": "code",
   "execution_count": 17,
   "metadata": {},
   "outputs": [
    {
     "data": {
      "image/png": "[encoded data removed]",
      "text/plain": [
       "<Figure size 432x288 with 1 Axes>"
      ]
     },
     "metadata": {
      "needs_background": "light"
     },
     "output_type": "display_data"
    }
   ],
   "source": [
    "denormed_swas = [dataset.denormalize_swa(swa) for swa in log_normed_swas]\n",
    "plt.hist(denormed_swas, bins = 100)\n",
    "plt.show()"
   ]
  },
  {
   "cell_type": "code",
   "execution_count": 29,
   "metadata": {},
   "outputs": [
    {
     "name": "stdout",
     "output_type": "stream",
     "text": [
      "1.0658141036401503e-14\n"
     ]
    }
   ],
   "source": [
    "error = denormed_swas - swas\n",
    "print(max(error))"
   ]
  },
  {
   "cell_type": "code",
   "execution_count": 18,
   "metadata": {},
   "outputs": [],
   "source": [
    "gui = AutopilotGUI()\n",
    "batch_gui = AutopilotGUI()"
   ]
  },
  {
   "cell_type": "code",
   "execution_count": 19,
   "metadata": {},
   "outputs": [],
   "source": [
    "from tensorflow.keras.preprocessing.image import img_to_array"
   ]
  },
  {
   "cell_type": "code",
   "execution_count": 20,
   "metadata": {},
   "outputs": [],
   "source": [
    "def show_frame(index, lateral_shift=0, horizontal_rotation=0):\n",
    "    \n",
    "    sample = dataset.get_sample(index)\n",
    "    frame = sample['frame']\n",
    "    velocity = sample['v_vehicle']\n",
    "    orig_swa = sample['swa']\n",
    "    \n",
    "    \n",
    "    \n",
    "    frame, aug_swa = dataset.augment_sample(frame, orig_swa, velocity, lateral_shift, horizontal_rotation)\n",
    "    \n",
    "    \n",
    "    \n",
    "    \n",
    "    gui.set_frame(frame)\n",
    "    gui.set_show_overlay(True)\n",
    "    gui.set_engaged(False)\n",
    "    gui.set_recording(True)\n",
    "    \n",
    "    blink_l = sample['blink_l']\n",
    "    gui.set_indicator_left(blink_l)\n",
    "    blink_r = sample['blink_r']\n",
    "    gui.set_indicator_right(blink_r)\n",
    "    #gui.set_cruise_control(cruise_control)\n",
    "    #gui.set_cruise_control_setpoint(cc_setpoint)\n",
    "    \n",
    "    \n",
    "    gui.set_velocity(velocity)\n",
    "    \n",
    "    timestamp = sample['filename']\n",
    "    gui.set_timestring(timestamp)\n",
    "    \n",
    "    \n",
    "    \n",
    "    gui.set_actual_swa(aug_swa)\n",
    "    gui.set_predicted_swa(orig_swa)\n",
    "#    gui.set_predicted_swa(aug_swa)\n",
    "    \n",
    "    gui.show_jupyter()\n",
    "    \n",
    "    \n",
    "from matplotlib import pyplot as plt\n",
    "    \n",
    "def show_crop(index, shift, offset):\n",
    "    frame = img_to_array(dataset.get_cropped_frame(index, shift, offset)[0])\n",
    "    plt.imshow(frame/255)\n",
    "    plt.show()\n",
    "    \n",
    "    \n",
    "def show_batch(batch_index, frame_index):\n",
    "    \n",
    "    batch = dataset[batch_index]\n",
    "    samples = batch[0]\n",
    "    labels = batch[1]\n",
    "\n",
    "    images = samples[0]\n",
    "    velocities = samples[1]\n",
    "\n",
    "\n",
    "\n",
    "    frame = images[frame_index]\n",
    "    vel = velocities[frame_index]\n",
    "    actual_swa = labels[frame_index]\n",
    "\n",
    "    batch_gui.set_frame(frame)\n",
    "    batch_gui.set_show_overlay(True)\n",
    "    batch_gui.set_engaged(False)\n",
    "    batch_gui.set_recording(True)\n",
    "    \n",
    "    \n",
    "    #velocity = dataset.get_velocity(index)\n",
    "    batch_gui.set_velocity(vel)\n",
    "    \n",
    "    #timestamp = dataset.get_timestamp(index)\n",
    "    #batch_gui.set_timestring(timestamp)\n",
    "    \n",
    "    \n",
    "    #actual_swa = dataset.get_swa(index)*90\n",
    "    print(\"actual_swa: \" + str(actual_swa))\n",
    "    #batch_gui.set_actual_swa(actual_swa)\n",
    "    batch_gui.set_predicted_swa(actual_swa)\n",
    "    \n",
    "    batch_gui.show_jupyter()"
   ]
  },
  {
   "cell_type": "code",
   "execution_count": 21,
   "metadata": {},
   "outputs": [],
   "source": [
    "import ipywidgets as widgets\n",
    "frame_slider = widgets.IntSlider(min=0, max=dataset.get_batch_size()*len(dataset)-1, continuous_update=False)\n",
    "lateral_shift_slider = widgets.FloatSlider(min=-1, max=1, continuous_update=False)\n",
    "horizontal_rotation_slider = widgets.FloatSlider(min=-10, max=10, continuous_update=False)"
   ]
  },
  {
   "cell_type": "code",
   "execution_count": 22,
   "metadata": {},
   "outputs": [
    {
     "data": {
      "application/vnd.jupyter.widget-view+json": {
       "model_id": "f7d9f44b6dc04be3bd1244411261f440",
       "version_major": 2,
       "version_minor": 0
      },
      "text/plain": [
       "interactive(children=(IntSlider(value=0, continuous_update=False, description='index', max=16495), FloatSlider…"
      ]
     },
     "metadata": {},
     "output_type": "display_data"
    }
   ],
   "source": [
    "from ipywidgets import interact\n",
    "\n",
    "interact(show_frame, index=frame_slider, lateral_shift=lateral_shift_slider, horizontal_rotation=horizontal_rotation_slider);"
   ]
  },
  {
   "cell_type": "code",
   "execution_count": 23,
   "metadata": {},
   "outputs": [
    {
     "data": {
      "application/vnd.jupyter.widget-view+json": {
       "model_id": "9e090f85624142a49500e11082c0d99b",
       "version_major": 2,
       "version_minor": 0
      },
      "text/plain": [
       "interactive(children=(IntSlider(value=0, continuous_update=False, description='batch_index', max=1030), IntSli…"
      ]
     },
     "metadata": {},
     "output_type": "display_data"
    }
   ],
   "source": [
    "batch_slider = widgets.IntSlider(min=0, max=len(dataset)-1, continuous_update=False)\n",
    "batch_frame_slider = widgets.IntSlider(min=0, max=dataset.get_batch_size()-1, continuous_update=False)\n",
    "\n",
    "interact(show_batch, batch_index=batch_slider, frame_index=batch_frame_slider);"
   ]
  },
  {
   "cell_type": "code",
   "execution_count": 24,
   "metadata": {},
   "outputs": [],
   "source": [
    "crop_slider = widgets.IntSlider(min=0, max=dataset.get_batch_size()*len(dataset)-1, continuous_update=False)\n",
    "shift_slider = widgets.IntSlider(min=-100, max=100, continuous_update=False)\n",
    "offset_slider = widgets.IntSlider(min=-100, max=100, continuous_update=False)"
   ]
  },
  {
   "cell_type": "code",
   "execution_count": 25,
   "metadata": {},
   "outputs": [
    {
     "data": {
      "application/vnd.jupyter.widget-view+json": {
       "model_id": "4dc2e69bc3b942168671ac4d8b98f5a2",
       "version_major": 2,
       "version_minor": 0
      },
      "text/plain": [
       "interactive(children=(IntSlider(value=0, continuous_update=False, description='index', max=16495), IntSlider(v…"
      ]
     },
     "metadata": {},
     "output_type": "display_data"
    }
   ],
   "source": [
    "interact(show_crop, index=crop_slider, shift = shift_slider, offset = offset_slider);"
   ]
  },
  {
   "cell_type": "code",
   "execution_count": 26,
   "metadata": {},
   "outputs": [
    {
     "data": {
      "text/html": [
       "<div>\n",
       "<style scoped>\n",
       "    .dataframe tbody tr th:only-of-type {\n",
       "        vertical-align: middle;\n",
       "    }\n",
       "\n",
       "    .dataframe tbody tr th {\n",
       "        vertical-align: top;\n",
       "    }\n",
       "\n",
       "    .dataframe thead th {\n",
       "        text-align: right;\n",
       "    }\n",
       "</style>\n",
       "<table border=\"1\" class=\"dataframe\">\n",
       "  <thead>\n",
       "    <tr style=\"text-align: right;\">\n",
       "      <th></th>\n",
       "      <th>count</th>\n",
       "      <th>mean</th>\n",
       "      <th>std</th>\n",
       "      <th>min</th>\n",
       "      <th>25%</th>\n",
       "      <th>50%</th>\n",
       "      <th>75%</th>\n",
       "      <th>max</th>\n",
       "    </tr>\n",
       "  </thead>\n",
       "  <tbody>\n",
       "    <tr>\n",
       "      <th>steering_wheel_angle</th>\n",
       "      <td>16506.0</td>\n",
       "      <td>-1.856281</td>\n",
       "      <td>11.589330</td>\n",
       "      <td>-44.890</td>\n",
       "      <td>-5.82000</td>\n",
       "      <td>-1.440</td>\n",
       "      <td>1.630</td>\n",
       "      <td>44.830</td>\n",
       "    </tr>\n",
       "    <tr>\n",
       "      <th>speed</th>\n",
       "      <td>16506.0</td>\n",
       "      <td>64.145716</td>\n",
       "      <td>17.278519</td>\n",
       "      <td>25.048</td>\n",
       "      <td>48.98775</td>\n",
       "      <td>61.628</td>\n",
       "      <td>77.903</td>\n",
       "      <td>103.323</td>\n",
       "    </tr>\n",
       "    <tr>\n",
       "      <th>blink_l</th>\n",
       "      <td>16506.0</td>\n",
       "      <td>0.000000</td>\n",
       "      <td>0.000000</td>\n",
       "      <td>0.000</td>\n",
       "      <td>0.00000</td>\n",
       "      <td>0.000</td>\n",
       "      <td>0.000</td>\n",
       "      <td>0.000</td>\n",
       "    </tr>\n",
       "    <tr>\n",
       "      <th>blink_r</th>\n",
       "      <td>16506.0</td>\n",
       "      <td>0.000000</td>\n",
       "      <td>0.000000</td>\n",
       "      <td>0.000</td>\n",
       "      <td>0.00000</td>\n",
       "      <td>0.000</td>\n",
       "      <td>0.000</td>\n",
       "      <td>0.000</td>\n",
       "    </tr>\n",
       "  </tbody>\n",
       "</table>\n",
       "</div>"
      ],
      "text/plain": [
       "                        count       mean        std     min       25%     50%  \\\n",
       "steering_wheel_angle  16506.0  -1.856281  11.589330 -44.890  -5.82000  -1.440   \n",
       "speed                 16506.0  64.145716  17.278519  25.048  48.98775  61.628   \n",
       "blink_l               16506.0   0.000000   0.000000   0.000   0.00000   0.000   \n",
       "blink_r               16506.0   0.000000   0.000000   0.000   0.00000   0.000   \n",
       "\n",
       "                         75%      max  \n",
       "steering_wheel_angle   1.630   44.830  \n",
       "speed                 77.903  103.323  \n",
       "blink_l                0.000    0.000  \n",
       "blink_r                0.000    0.000  "
      ]
     },
     "execution_count": 26,
     "metadata": {},
     "output_type": "execute_result"
    }
   ],
   "source": [
    "train_stats = dataset.get_csv().describe()\n",
    "train_stats = train_stats.transpose()\n",
    "train_stats"
   ]
  },
  {
   "cell_type": "code",
   "execution_count": null,
   "metadata": {},
   "outputs": [],
   "source": []
  },
  {
   "cell_type": "code",
   "execution_count": 5,
   "metadata": {},
   "outputs": [],
   "source": [
    "from tensorflow.keras.preprocessing.image import load_img, img_to_array\n",
    "import numpy as np\n",
    "img = load_img('red.jpg', color_mode='rgb')\n",
    "frame = img_to_array(img, dtype=np.uint8)"
   ]
  },
  {
   "cell_type": "code",
   "execution_count": 6,
   "metadata": {},
   "outputs": [
    {
     "name": "stdout",
     "output_type": "stream",
     "text": [
      "[[[255   0   0]\n",
      "  [255   0   0]\n",
      "  [255   0   0]\n",
      "  ...\n",
      "  [255   0   0]\n",
      "  [255   0   0]\n",
      "  [255   0   0]]\n",
      "\n",
      " [[255   0   0]\n",
      "  [255   0   0]\n",
      "  [255   0   0]\n",
      "  ...\n",
      "  [255   0   0]\n",
      "  [255   0   0]\n",
      "  [255   0   0]]\n",
      "\n",
      " [[255   0   0]\n",
      "  [255   0   0]\n",
      "  [255   0   0]\n",
      "  ...\n",
      "  [255   0   0]\n",
      "  [255   0   0]\n",
      "  [255   0   0]]\n",
      "\n",
      " ...\n",
      "\n",
      " [[255   0   0]\n",
      "  [255   0   0]\n",
      "  [255   0   0]\n",
      "  ...\n",
      "  [255   0   0]\n",
      "  [255   0   0]\n",
      "  [255   0   0]]\n",
      "\n",
      " [[255   0   0]\n",
      "  [255   0   0]\n",
      "  [255   0   0]\n",
      "  ...\n",
      "  [255   0   0]\n",
      "  [255   0   0]\n",
      "  [255   0   0]]\n",
      "\n",
      " [[255   0   0]\n",
      "  [255   0   0]\n",
      "  [255   0   0]\n",
      "  ...\n",
      "  [255   0   0]\n",
      "  [255   0   0]\n",
      "  [255   0   0]]]\n"
     ]
    }
   ],
   "source": [
    "print(frame)"
   ]
  },
  {
   "cell_type": "code",
   "execution_count": null,
   "metadata": {},
   "outputs": [],
   "source": []
  }
 ],
 "metadata": {
  "kernelspec": {
   "display_name": "Python 3",
   "language": "python",
   "name": "python3"
  },
  "language_info": {
   "codemirror_mode": {
    "name": "ipython",
    "version": 3
   },
   "file_extension": ".py",
   "mimetype": "text/x-python",
   "name": "python",
   "nbconvert_exporter": "python",
   "pygments_lexer": "ipython3",
   "version": "3.6.9"
  }
 },
 "nbformat": 4,
 "nbformat_minor": 2
}
